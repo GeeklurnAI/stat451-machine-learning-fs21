{
 "cells": [
  {
   "cell_type": "markdown",
   "id": "39329df3-1f99-4b11-9405-5969d52368a7",
   "metadata": {},
   "source": [
    "# Stacking & Hyperopt Example"
   ]
  },
  {
   "cell_type": "code",
   "execution_count": 1,
   "id": "7f61a90e-a119-4bd0-af21-38604c5b4eec",
   "metadata": {},
   "outputs": [
    {
     "name": "stdout",
     "output_type": "stream",
     "text": [
      "scikit-learn: 1.0\n",
      "mlxtend     : 0.19.0\n",
      "xgboost     : 1.5.0\n",
      "\n"
     ]
    }
   ],
   "source": [
    "%load_ext watermark\n",
    "%watermark -p scikit-learn,mlxtend,xgboost"
   ]
  },
  {
   "cell_type": "markdown",
   "id": "1f0489c2-dd9c-4e71-a78c-e01201762b37",
   "metadata": {},
   "source": [
    "## Dataset"
   ]
  },
  {
   "cell_type": "code",
   "execution_count": 2,
   "id": "271b17ff-5ea4-4161-8b7f-20ba8131d666",
   "metadata": {},
   "outputs": [
    {
     "name": "stdout",
     "output_type": "stream",
     "text": [
      "Train/Valid/Test sizes: 398 80 171\n"
     ]
    }
   ],
   "source": [
    "from sklearn import model_selection\n",
    "from sklearn.model_selection import train_test_split\n",
    "from sklearn import datasets\n",
    "\n",
    "\n",
    "data = datasets.load_breast_cancer()\n",
    "X, y = data.data, data.target\n",
    "\n",
    "X_train, X_test, y_train, y_test = \\\n",
    "    train_test_split(X, y, test_size=0.3, random_state=1, stratify=y)\n",
    "\n",
    "X_train_sub, X_valid, y_train_sub, y_valid = \\\n",
    "    train_test_split(X_train, y_train, test_size=0.2, random_state=1, stratify=y_train)\n",
    "\n",
    "print('Train/Valid/Test sizes:', y_train.shape[0], y_valid.shape[0], y_test.shape[0])"
   ]
  },
  {
   "cell_type": "markdown",
   "id": "4cc20172-b2c7-4a8a-b310-714f658d3e23",
   "metadata": {},
   "source": [
    "## Baseline"
   ]
  },
  {
   "cell_type": "code",
   "execution_count": 3,
   "id": "96f0b4c1-803a-436f-93d5-31baab55faa5",
   "metadata": {},
   "outputs": [],
   "source": [
    "from sklearn.ensemble import RandomForestClassifier\n",
    "from xgboost import XGBClassifier\n",
    "from mlxtend.classifier import StackingCVClassifier\n",
    "from sklearn.linear_model import LogisticRegression\n",
    "\n",
    "\n",
    "forest = RandomForestClassifier(n_estimators=100,\n",
    "                                random_state=123)\n",
    "\n",
    "boost = XGBClassifier(random_state=123, verbosity=0, use_label_encoder=False)\n",
    "\n",
    "metaclassifier = LogisticRegression(random_state=123)\n",
    "\n",
    "sclf = StackingCVClassifier(classifiers=[forest, boost], \n",
    "                            meta_classifier=metaclassifier, \n",
    "                            random_state=123)\n"
   ]
  },
  {
   "cell_type": "markdown",
   "id": "8acc4951-e0de-4dfb-98d4-fd0a7e14a896",
   "metadata": {},
   "source": [
    "Random forest:"
   ]
  },
  {
   "cell_type": "code",
   "execution_count": 4,
   "id": "30d17dbf-2a07-4482-a942-5e6d936f2bd0",
   "metadata": {},
   "outputs": [
    {
     "name": "stdout",
     "output_type": "stream",
     "text": [
      "Training Accuracy: 1.00\n",
      "Validation Accuracy: 0.95\n",
      "Test Accuracy: 0.96\n"
     ]
    }
   ],
   "source": [
    "forest.fit(X_train_sub, y_train_sub)\n",
    "print(f\"Training Accuracy: {forest.score(X_train_sub, y_train_sub):0.2f}\")\n",
    "print(f\"Validation Accuracy: {forest.score(X_valid, y_valid):0.2f}\")\n",
    "print(f\"Test Accuracy: {forest.score(X_test, y_test):0.2f}\")"
   ]
  },
  {
   "cell_type": "markdown",
   "id": "b44ea7b8-ca93-452b-8f61-b4ea067fb883",
   "metadata": {},
   "source": [
    "Gradient boosting:"
   ]
  },
  {
   "cell_type": "code",
   "execution_count": 5,
   "id": "524ec950-396c-40de-b5c1-87b8473ffcb7",
   "metadata": {},
   "outputs": [
    {
     "name": "stdout",
     "output_type": "stream",
     "text": [
      "Training Accuracy: 1.00\n",
      "Validation Accuracy: 0.97\n",
      "Test Accuracy: 0.95\n"
     ]
    }
   ],
   "source": [
    "boost.fit(X_train_sub, y_train_sub)\n",
    "print(f\"Training Accuracy: {boost.score(X_train_sub, y_train_sub):0.2f}\")\n",
    "print(f\"Validation Accuracy: {boost.score(X_valid, y_valid):0.2f}\")\n",
    "print(f\"Test Accuracy: {boost.score(X_test, y_test):0.2f}\")"
   ]
  },
  {
   "cell_type": "markdown",
   "id": "5010e087-1d01-4487-9792-01ea22877cb1",
   "metadata": {},
   "source": [
    "Stacking:"
   ]
  },
  {
   "cell_type": "code",
   "execution_count": 6,
   "id": "85ea8745-5bde-4221-b56d-391d2ebb36f5",
   "metadata": {},
   "outputs": [
    {
     "name": "stdout",
     "output_type": "stream",
     "text": [
      "Training Accuracy: 1.00\n",
      "Validation Accuracy: 0.97\n",
      "Test Accuracy: 0.95\n"
     ]
    }
   ],
   "source": [
    "sclf.fit(X_train_sub, y_train_sub)\n",
    "print(f\"Training Accuracy: {sclf.score(X_train_sub, y_train_sub):0.2f}\")\n",
    "print(f\"Validation Accuracy: {sclf.score(X_valid, y_valid):0.2f}\")\n",
    "print(f\"Test Accuracy: {sclf.score(X_test, y_test):0.2f}\")"
   ]
  },
  {
   "cell_type": "markdown",
   "id": "0affc454-9f07-48e6-bcee-e6253d968247",
   "metadata": {},
   "source": [
    "## Hyperopt"
   ]
  },
  {
   "cell_type": "markdown",
   "id": "72e56f33-ec33-46dd-afa2-a1b3c8b3da0b",
   "metadata": {},
   "source": [
    "Example showing how to tune hyperparameters of a nested ensemble using Bayesian optimization via hyperopt. \n",
    "- More info: \n",
    "  - https://hyperopt.github.io"
   ]
  },
  {
   "cell_type": "code",
   "execution_count": 7,
   "id": "53282fd6-1292-4b4d-a0b7-980707d61c3c",
   "metadata": {},
   "outputs": [
    {
     "data": {
      "text/plain": [
       "1.8708454833799104"
      ]
     },
     "execution_count": 7,
     "metadata": {},
     "output_type": "execute_result"
    }
   ],
   "source": [
    "from hyperopt import Trials, STATUS_OK, tpe, hp, fmin\n",
    "import hyperopt.pyll.stochastic\n",
    "\n",
    "hyperopt.pyll.stochastic.sample(hp.loguniform('test', 1e-5, 1)) # range e^{low} to e^{high}"
   ]
  },
  {
   "cell_type": "code",
   "execution_count": 8,
   "id": "b2adc867-2d5a-44bd-8115-195ed53d6a7e",
   "metadata": {},
   "outputs": [
    {
     "data": {
      "text/plain": [
       "2.2"
      ]
     },
     "execution_count": 8,
     "metadata": {},
     "output_type": "execute_result"
    }
   ],
   "source": [
    "hyperopt.pyll.stochastic.sample(hp.qloguniform('test', 1e-5, 1, 0.1)) # rounded to 0.1"
   ]
  },
  {
   "cell_type": "code",
   "execution_count": 9,
   "id": "c5032f27-96f0-41a1-a1dc-0be4e1995348",
   "metadata": {},
   "outputs": [
    {
     "data": {
      "text/plain": [
       "1000"
      ]
     },
     "execution_count": 9,
     "metadata": {},
     "output_type": "execute_result"
    }
   ],
   "source": [
    "hyperopt.pyll.stochastic.sample(hp.choice('1_n_estimators', [100, 1000]))"
   ]
  },
  {
   "cell_type": "code",
   "execution_count": 10,
   "id": "9a6bb270-d2a1-4179-a770-39bad5a8332c",
   "metadata": {},
   "outputs": [],
   "source": [
    "from sklearn.model_selection import cross_val_score\n",
    "\n",
    "\n",
    "params = {'stackingcvclassifier__use_probas': hp.choice('stackingcvclassifier__use_probas', [True, False]),\n",
    "           'stackingcvclassifier__drop_proba_col': hp.choice('stackingcvclassifier__drop_proba_col', [None, 'last']),\n",
    "           'stackingcvclassifier__xgbclassifier__reg_alpha': hp.qloguniform('stackingcvclassifier__xgbclassifier__reg_alpha', 1e-5, 1, 0.1),\n",
    "           'stackingcvclassifier__xgbclassifier__max_depth': hp.choice('stackingcvclassifier__xgbclassifier__max_depth', [2, 4, 6, 8]),\n",
    "           'stackingcvclassifier__randomforestclassifier__n_estimators': hp.choice('stackingcvclassifier__randomforestclassifier__n_estimators', [100, 1000])\n",
    "}\n",
    "\n",
    "\n",
    "\n",
    "\n",
    "def optimization_objective(params):\n",
    "\n",
    "    #warnings.filterwarnings(action='ignore', category=DeprecationWarning)\n",
    "    \n",
    "    forest = RandomForestClassifier(\n",
    "        n_estimators=params['stackingcvclassifier__randomforestclassifier__n_estimators'],\n",
    "        random_state=123\n",
    "    )\n",
    "\n",
    "    boost = XGBClassifier(\n",
    "        random_state=123, verbosity=0, use_label_encoder=False,\n",
    "        reg_alpha=params['stackingcvclassifier__xgbclassifier__reg_alpha'],\n",
    "        max_depth=params['stackingcvclassifier__xgbclassifier__max_depth']\n",
    "        \n",
    "    )\n",
    "\n",
    "    metaclassifier = LogisticRegression(random_state=123)\n",
    "\n",
    "    sclf = StackingCVClassifier(\n",
    "        classifiers=[forest, boost], \n",
    "        meta_classifier=metaclassifier, \n",
    "        random_state=123,\n",
    "        use_probas=params['stackingcvclassifier__use_probas'],\n",
    "        drop_proba_col=params['stackingcvclassifier__drop_proba_col'],\n",
    "    )\n",
    "    \n",
    "\n",
    "    sclf.fit(X_train, y_train)\n",
    "    \n",
    "    accuracies = cross_val_score(\n",
    "        estimator=sclf, X=X_train, y=y_train, cv=10, n_jobs=-1)\n",
    "\n",
    "    score = accuracies.mean()\n",
    "\n",
    "    return {'loss':1-score, 'status': STATUS_OK}\n"
   ]
  },
  {
   "cell_type": "code",
   "execution_count": 11,
   "id": "a51829c6-234f-401f-84ed-a005f71d0150",
   "metadata": {},
   "outputs": [
    {
     "name": "stdout",
     "output_type": "stream",
     "text": [
      "100%|████████████| 50/50 [05:10<00:00,  6.21s/trial, best loss: 0.030064102564102635]\n"
     ]
    }
   ],
   "source": [
    "trials = Trials()\n",
    "best = fmin(fn=optimization_objective,\n",
    "            space=params,\n",
    "            algo=tpe.suggest,\n",
    "            max_evals=50,\n",
    "            trials=trials)"
   ]
  },
  {
   "cell_type": "code",
   "execution_count": 12,
   "id": "2c26399d-ebfc-4b06-86d9-36e49711e908",
   "metadata": {},
   "outputs": [
    {
     "data": {
      "text/plain": [
       "{'stackingcvclassifier__drop_proba_col': 0,\n",
       " 'stackingcvclassifier__randomforestclassifier__n_estimators': 1,\n",
       " 'stackingcvclassifier__use_probas': 1,\n",
       " 'stackingcvclassifier__xgbclassifier__max_depth': 2,\n",
       " 'stackingcvclassifier__xgbclassifier__reg_alpha': 1.2000000000000002}"
      ]
     },
     "execution_count": 12,
     "metadata": {},
     "output_type": "execute_result"
    }
   ],
   "source": [
    "best"
   ]
  },
  {
   "cell_type": "markdown",
   "id": "42380f27-d982-4ae8-8981-17b7224ebb04",
   "metadata": {},
   "source": [
    "- Attention, `fmin` returns results from `hp.choice` as an index!"
   ]
  },
  {
   "cell_type": "code",
   "execution_count": 13,
   "id": "83e99f85-9ce2-494e-99ea-20ab49dc0b15",
   "metadata": {},
   "outputs": [
    {
     "name": "stdout",
     "output_type": "stream",
     "text": [
      "{'stackingcvclassifier__drop_proba_col': None, 'stackingcvclassifier__randomforestclassifier__n_estimators': 1000, 'stackingcvclassifier__use_probas': False, 'stackingcvclassifier__xgbclassifier__max_depth': 6, 'stackingcvclassifier__xgbclassifier__reg_alpha': 1.2000000000000002}\n"
     ]
    }
   ],
   "source": [
    "from hyperopt import space_eval\n",
    "\n",
    "best_params = space_eval(params, best)\n",
    "print(best_params)"
   ]
  },
  {
   "cell_type": "code",
   "execution_count": 14,
   "id": "fbb610d8-4846-4e9f-a589-adacd0042603",
   "metadata": {},
   "outputs": [],
   "source": [
    "forest = RandomForestClassifier(\n",
    "    n_estimators=best_params['stackingcvclassifier__randomforestclassifier__n_estimators'],\n",
    "    random_state=123\n",
    ")\n",
    "\n",
    "boost = XGBClassifier(\n",
    "    random_state=123, verbosity=0, use_label_encoder=False,\n",
    "    reg_alpha=best_params['stackingcvclassifier__xgbclassifier__reg_alpha'],\n",
    "    max_depth=best_params['stackingcvclassifier__xgbclassifier__max_depth']\n",
    "\n",
    ")\n",
    "\n",
    "metaclassifier = LogisticRegression(random_state=123)\n",
    "\n",
    "sclf = StackingCVClassifier(\n",
    "    classifiers=[forest, boost], \n",
    "    meta_classifier=metaclassifier, \n",
    "    random_state=123,\n",
    "    use_probas=best_params['stackingcvclassifier__use_probas'],\n",
    "    drop_proba_col=best_params['stackingcvclassifier__drop_proba_col'],\n",
    ")\n",
    "\n",
    "\n",
    "sclf.fit(X_train, y_train);"
   ]
  },
  {
   "cell_type": "code",
   "execution_count": 15,
   "id": "763e816b-6437-45a9-812f-8b429472d75e",
   "metadata": {},
   "outputs": [
    {
     "name": "stdout",
     "output_type": "stream",
     "text": [
      "Training Accuracy: 1.00\n",
      "Test Accuracy: 0.95\n"
     ]
    }
   ],
   "source": [
    "print(f\"Training Accuracy: {sclf.score(X_train, y_train):0.2f}\")\n",
    "print(f\"Test Accuracy: {sclf.score(X_test, y_test):0.2f}\")"
   ]
  }
 ],
 "metadata": {
  "kernelspec": {
   "display_name": "Python 3 (ipykernel)",
   "language": "python",
   "name": "python3"
  },
  "language_info": {
   "codemirror_mode": {
    "name": "ipython",
    "version": 3
   },
   "file_extension": ".py",
   "mimetype": "text/x-python",
   "name": "python",
   "nbconvert_exporter": "python",
   "pygments_lexer": "ipython3",
   "version": "3.9.6"
  }
 },
 "nbformat": 4,
 "nbformat_minor": 5
}
