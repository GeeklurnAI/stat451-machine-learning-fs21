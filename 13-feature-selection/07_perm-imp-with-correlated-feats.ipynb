{
 "cells": [
  {
   "cell_type": "markdown",
   "id": "e640b784-ad96-4608-b942-adf8212ee01f",
   "metadata": {},
   "source": [
    "# Permutation Importance and Dealing with Correlated Features"
   ]
  },
  {
   "cell_type": "code",
   "execution_count": 1,
   "id": "42d7225d-bd29-4da6-8651-18bb0c58d667",
   "metadata": {},
   "outputs": [
    {
     "name": "stdout",
     "output_type": "stream",
     "text": [
      "Author: Sebastian Raschka\n",
      "\n",
      "Last updated: 2021-12-30\n",
      "\n",
      "numpy     : 1.21.5\n",
      "pandas    : 1.3.5\n",
      "matplotlib: 3.5.1\n",
      "sklearn   : 1.0.2\n",
      "mlxtend   : 0.20.0.dev0\n",
      "\n"
     ]
    }
   ],
   "source": [
    "%load_ext watermark\n",
    "%watermark -a \"Sebastian Raschka\" -u -d -p numpy,pandas,matplotlib,sklearn,mlxtend"
   ]
  },
  {
   "cell_type": "code",
   "execution_count": 2,
   "id": "f8d0d20f-b368-41de-ac7d-4cbc3ad9a68e",
   "metadata": {},
   "outputs": [],
   "source": [
    "%matplotlib inline\n",
    "import matplotlib.pyplot as plt"
   ]
  },
  {
   "cell_type": "code",
   "execution_count": 3,
   "id": "cd3b1c7d-c775-4123-b5ba-d46f4fa24125",
   "metadata": {},
   "outputs": [
    {
     "data": {
      "text/plain": [
       "(1000, 3)"
      ]
     },
     "execution_count": 3,
     "metadata": {},
     "output_type": "execute_result"
    }
   ],
   "source": [
    "import numpy as np\n",
    "\n",
    "\n",
    "np.random.seed(123)\n",
    "\n",
    "y = np.zeros(1000)\n",
    "y[:500] = 1\n",
    "\n",
    "x1 = np.random.randn(1000)\n",
    "\n",
    "x2 = np.empty(1000)\n",
    "x2[:500] = np.random.randn(500)\n",
    "x2[500:] = np.random.randn(500)+4\n",
    "\n",
    "x3 = x2 \n",
    "\n",
    "X = np.vstack((x3, x2, x1)).swapaxes(1, 0)\n",
    "X.shape"
   ]
  },
  {
   "cell_type": "code",
   "execution_count": 4,
   "id": "900bbe90-d37e-4fc5-b69d-5ff4559d1ac5",
   "metadata": {},
   "outputs": [],
   "source": [
    "from sklearn.model_selection import train_test_split\n",
    "\n",
    "\n",
    "X_train, X_test, y_train, y_test =\\\n",
    "    train_test_split(X, y, \n",
    "                     test_size=0.3, \n",
    "                     random_state=123, \n",
    "                     stratify=y)"
   ]
  },
  {
   "cell_type": "code",
   "execution_count": 5,
   "id": "5e9a89df-6aaa-4543-a900-137888df27ac",
   "metadata": {},
   "outputs": [
    {
     "name": "stdout",
     "output_type": "stream",
     "text": [
      "Training accuracy: 99.71428571428571\n",
      "Test accuracy: 97.66666666666667\n"
     ]
    }
   ],
   "source": [
    "from sklearn.ensemble import RandomForestClassifier\n",
    "\n",
    "\n",
    "forest = RandomForestClassifier(n_estimators=10,\n",
    "                                random_state=123,\n",
    "                                max_features=2)\n",
    "\n",
    "forest.fit(X_train, y_train)\n",
    "\n",
    "print('Training accuracy:', np.mean(forest.predict(X_train) == y_train)*100)\n",
    "print('Test accuracy:', np.mean(forest.predict(X_test) == y_test)*100)"
   ]
  },
  {
   "cell_type": "code",
   "execution_count": 6,
   "id": "1ac84e1e-80f7-4be0-8956-a3609e738b07",
   "metadata": {},
   "outputs": [
    {
     "data": {
      "text/plain": [
       "(3, 3)"
      ]
     },
     "execution_count": 6,
     "metadata": {},
     "output_type": "execute_result"
    }
   ],
   "source": [
    "corr = np.corrcoef(X_train.T)\n",
    "corr.shape"
   ]
  },
  {
   "cell_type": "code",
   "execution_count": 7,
   "id": "11680ee2-d34e-4e71-b283-6c223ad722f8",
   "metadata": {},
   "outputs": [
    {
     "data": {
      "image/png": "[encoded data removed]",
      "text/plain": [
       "<Figure size 432x288 with 2 Axes>"
      ]
     },
     "metadata": {
      "needs_background": "light"
     },
     "output_type": "display_data"
    }
   ],
   "source": [
    "from mlxtend.plotting import heatmap\n",
    "\n",
    "\n",
    "heatmap(corr, cmap='binary')\n",
    "plt.savefig('5.pdf')\n",
    "plt.show()"
   ]
  },
  {
   "cell_type": "code",
   "execution_count": 8,
   "id": "8c5238fc-2e47-47bf-919c-92c03215ab90",
   "metadata": {},
   "outputs": [],
   "source": [
    "from mlxtend.evaluate import feature_importance_permutation\n",
    "\n",
    "\n",
    "imp_vals, imp_all = feature_importance_permutation(\n",
    "    predict_method=forest.predict, \n",
    "    X=X_test,\n",
    "    y=y_test,\n",
    "    metric='accuracy',\n",
    "    num_rounds=50,\n",
    "    seed=123)"
   ]
  },
  {
   "cell_type": "code",
   "execution_count": 9,
   "id": "8ccda815-bbd7-46d6-91ee-f2d709d2b4a2",
   "metadata": {},
   "outputs": [
    {
     "data": {
      "image/png": "[encoded data removed]",
      "text/plain": [
       "<Figure size 432x288 with 1 Axes>"
      ]
     },
     "metadata": {
      "needs_background": "light"
     },
     "output_type": "display_data"
    }
   ],
   "source": [
    "std = np.std(imp_all, axis=1)\n",
    "indices = np.argsort(imp_vals)[::-1]\n",
    "\n",
    "plt.figure()\n",
    "plt.title(\"Random Forest feature importance via permutation importance\")\n",
    "plt.bar(range(X_train.shape[1]), imp_vals[indices], yerr=std[indices])\n",
    "\n",
    "plt.xticks(range(X_train.shape[1]), indices)\n",
    "plt.xlim([-1, X_train.shape[1]])\n",
    "plt.ylim([0, 0.6])\n",
    "\n",
    "plt.tight_layout()\n",
    "plt.savefig('6.pdf')\n",
    "plt.show()"
   ]
  },
  {
   "cell_type": "code",
   "execution_count": 10,
   "id": "14450fca-ec5f-4f79-a42d-dee92df21ba1",
   "metadata": {},
   "outputs": [
    {
     "data": {
      "image/png": "[encoded data removed]",
      "text/plain": [
       "<Figure size 432x288 with 1 Axes>"
      ]
     },
     "metadata": {
      "needs_background": "light"
     },
     "output_type": "display_data"
    }
   ],
   "source": [
    "X_train = X_train[:, 1:]\n",
    "X_test = X_test[:, 1:]\n",
    "\n",
    "forest = RandomForestClassifier(n_estimators=10,\n",
    "                                random_state=123,\n",
    "                                max_features=2)\n",
    "\n",
    "forest.fit(X_train, y_train)\n",
    "\n",
    "imp_vals, imp_all = feature_importance_permutation(\n",
    "    predict_method=forest.predict, \n",
    "    X=X_test,\n",
    "    y=y_test,\n",
    "    metric='accuracy',\n",
    "    num_rounds=50,\n",
    "    seed=123)\n",
    "\n",
    "std = np.std(imp_all, axis=1)\n",
    "indices = np.argsort(imp_vals)[::-1]\n",
    "\n",
    "plt.figure()\n",
    "plt.title(\"Random Forest feature importance via permutation importance\")\n",
    "plt.bar(range(X_train.shape[1]), imp_vals[indices], yerr=std[indices])\n",
    "\n",
    "plt.xticks(range(X_train.shape[1]), indices)\n",
    "plt.xlim([-1, X_train.shape[1]])\n",
    "plt.ylim([0, 0.6])\n",
    "\n",
    "plt.tight_layout()\n",
    "plt.savefig('7.pdf')\n",
    "plt.show()"
   ]
  },
  {
   "cell_type": "code",
   "execution_count": null,
   "id": "6d35a9d5-4ce0-4c71-bf25-f497a3c81e35",
   "metadata": {},
   "outputs": [],
   "source": []
  }
 ],
 "metadata": {
  "kernelspec": {
   "display_name": "Python 3 (ipykernel)",
   "language": "python",
   "name": "python3"
  },
  "language_info": {
   "codemirror_mode": {
    "name": "ipython",
    "version": 3
   },
   "file_extension": ".py",
   "mimetype": "text/x-python",
   "name": "python",
   "nbconvert_exporter": "python",
   "pygments_lexer": "ipython3",
   "version": "3.9.6"
  }
 },
 "nbformat": 4,
 "nbformat_minor": 5
}
