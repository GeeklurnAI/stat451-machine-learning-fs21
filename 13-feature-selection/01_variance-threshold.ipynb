{
 "cells": [
  {
   "cell_type": "code",
   "execution_count": 1,
   "id": "dd12a639-3d61-4c69-b93d-0a82459f8ae8",
   "metadata": {},
   "outputs": [
    {
     "name": "stdout",
     "output_type": "stream",
     "text": [
      "Author: Sebastian Raschka\n",
      "\n",
      "Last updated: 2021-12-10\n",
      "\n",
      "Python implementation: CPython\n",
      "Python version       : 3.9.6\n",
      "IPython version      : 7.29.0\n",
      "\n",
      "numpy     : 1.21.2\n",
      "scipy     : 1.7.0\n",
      "matplotlib: 3.4.3\n",
      "sklearn   : 1.0\n",
      "\n"
     ]
    }
   ],
   "source": [
    "%load_ext watermark\n",
    "%watermark  -d -u -a 'Sebastian Raschka' -v -p numpy,scipy,matplotlib,sklearn"
   ]
  },
  {
   "cell_type": "markdown",
   "id": "17505491-8b1e-415d-a912-651391f928a3",
   "metadata": {},
   "source": [
    "## Decision Tree Example"
   ]
  },
  {
   "cell_type": "code",
   "execution_count": 2,
   "id": "f2d07b4b-e627-45af-8759-001f4442c542",
   "metadata": {},
   "outputs": [
    {
     "data": {
      "text/plain": [
       "1.0"
      ]
     },
     "execution_count": 2,
     "metadata": {},
     "output_type": "execute_result"
    }
   ],
   "source": [
    "import numpy as np\n",
    "from sklearn.tree import DecisionTreeClassifier\n",
    "\n",
    "X = np.array([[1.], [2.], [3.], [4.]])\n",
    "y = np.array([0, 1, 0, 1])\n",
    "\n",
    "\n",
    "tree = DecisionTreeClassifier(random_state=1)\n",
    "tree.fit(X, y)\n",
    "tree.score(X, y)"
   ]
  },
  {
   "cell_type": "code",
   "execution_count": 4,
   "id": "a9b60c92-f293-4095-97b4-9333a0c0d4cb",
   "metadata": {},
   "outputs": [
    {
     "data": {
      "image/png": "[encoded data removed]",
      "text/plain": [
       "<Figure size 720x216 with 1 Axes>"
      ]
     },
     "metadata": {
      "needs_background": "light"
     },
     "output_type": "display_data"
    }
   ],
   "source": [
    "%matplotlib inline\n",
    "import matplotlib.pyplot as plt\n",
    "from sklearn.tree import plot_tree\n",
    "\n",
    "\n",
    "plt.figure(figsize=(10, 3))\n",
    "\n",
    "plot_tree(tree, \n",
    "          filled=True, \n",
    "          rounded=True) \n",
    "\n",
    "#plt.savefig('tree.pdf')\n",
    "plt.show()"
   ]
  },
  {
   "cell_type": "markdown",
   "id": "351fb24d-aca7-43c3-8cb6-6b568e59d458",
   "metadata": {},
   "source": [
    "## Bernoulli variance"
   ]
  },
  {
   "cell_type": "code",
   "execution_count": 7,
   "id": "2708fee3-a63b-4717-89cf-3784619785f4",
   "metadata": {},
   "outputs": [
    {
     "data": {
      "text/plain": [
       "0.25"
      ]
     },
     "execution_count": 7,
     "metadata": {},
     "output_type": "execute_result"
    }
   ],
   "source": [
    "data_var = np.var(50*[0] + 50*[1]) # i.e., p = 0.5\n",
    "data_var"
   ]
  },
  {
   "cell_type": "code",
   "execution_count": 8,
   "id": "4209c758-8451-481d-8db6-523982696f8d",
   "metadata": {},
   "outputs": [
    {
     "data": {
      "text/plain": [
       "0.25"
      ]
     },
     "execution_count": 8,
     "metadata": {},
     "output_type": "execute_result"
    }
   ],
   "source": [
    "0.5 * 0.5"
   ]
  },
  {
   "cell_type": "markdown",
   "id": "8881b3de-7349-45da-8738-7c5ed22f1337",
   "metadata": {},
   "source": [
    "## Scaling"
   ]
  },
  {
   "cell_type": "code",
   "execution_count": 12,
   "id": "9a2b68bb-42c8-46e6-a031-bc65faf4ae62",
   "metadata": {},
   "outputs": [
    {
     "data": {
      "text/plain": [
       "0.06021177568505576"
      ]
     },
     "execution_count": 12,
     "metadata": {},
     "output_type": "execute_result"
    }
   ],
   "source": [
    "np.random.seed(123)\n",
    "\n",
    "data = np.random.random_sample(100)\n",
    "np.var(data)"
   ]
  },
  {
   "cell_type": "code",
   "execution_count": 13,
   "id": "fed8d418-df4d-432e-a690-ca88520654ad",
   "metadata": {},
   "outputs": [
    {
     "data": {
      "text/plain": [
       "6.021177568505576"
      ]
     },
     "execution_count": 13,
     "metadata": {},
     "output_type": "execute_result"
    }
   ],
   "source": [
    "np.var(data*10)"
   ]
  },
  {
   "cell_type": "markdown",
   "id": "15af9857-568f-45df-ae12-824f773f5ba3",
   "metadata": {},
   "source": [
    "## VarianceThreshold"
   ]
  },
  {
   "cell_type": "code",
   "execution_count": 26,
   "id": "c1d57a71-eab3-40c8-a854-1b870ea31893",
   "metadata": {},
   "outputs": [
    {
     "data": {
      "text/plain": [
       "array([[0., 0.],\n",
       "       [1., 0.],\n",
       "       [0., 0.],\n",
       "       [0., 0.],\n",
       "       [1., 0.],\n",
       "       [0., 1.],\n",
       "       [0., 0.],\n",
       "       [1., 0.]])"
      ]
     },
     "execution_count": 26,
     "metadata": {},
     "output_type": "execute_result"
    }
   ],
   "source": [
    "from sklearn.preprocessing import OneHotEncoder\n",
    "\n",
    "\n",
    "X = [['blue'], ['green'], ['blue'], ['blue'], ['green'], ['red'], ['blue'], ['green']]\n",
    "y = [0, 0, 1, 0, 0, 1, 0, 0]\n",
    "\n",
    "enc = OneHotEncoder(drop='first')\n",
    "enc.fit(X)\n",
    "X_ohe = enc.transform(X)\n",
    "X_ohe.toarray()"
   ]
  },
  {
   "cell_type": "code",
   "execution_count": null,
   "id": "17002d97-db4a-4501-98bc-0a598a2dda76",
   "metadata": {},
   "outputs": [],
   "source": []
  },
  {
   "cell_type": "code",
   "execution_count": 27,
   "id": "b19196ee-fe9f-4ee6-b2ce-badf8413aaea",
   "metadata": {},
   "outputs": [
    {
     "data": {
      "text/plain": [
       "array([[0.],\n",
       "       [1.],\n",
       "       [0.],\n",
       "       [0.],\n",
       "       [1.],\n",
       "       [0.],\n",
       "       [0.],\n",
       "       [1.]])"
      ]
     },
     "execution_count": 27,
     "metadata": {},
     "output_type": "execute_result"
    }
   ],
   "source": [
    "from sklearn.feature_selection import VarianceThreshold\n",
    "\n",
    "sel = VarianceThreshold(threshold=(.8 * (1 - .8)))\n",
    "\n",
    "sel.fit(X_ohe)\n",
    "sel.transform(X_ohe).toarray()"
   ]
  },
  {
   "cell_type": "code",
   "execution_count": null,
   "id": "4c847296-92fc-414d-966a-670018e347e4",
   "metadata": {},
   "outputs": [],
   "source": []
  },
  {
   "cell_type": "code",
   "execution_count": null,
   "id": "8d799c1d-b8af-414b-9879-ceb3bc128d58",
   "metadata": {},
   "outputs": [],
   "source": []
  }
 ],
 "metadata": {
  "kernelspec": {
   "display_name": "Python 3 (ipykernel)",
   "language": "python",
   "name": "python3"
  },
  "language_info": {
   "codemirror_mode": {
    "name": "ipython",
    "version": 3
   },
   "file_extension": ".py",
   "mimetype": "text/x-python",
   "name": "python",
   "nbconvert_exporter": "python",
   "pygments_lexer": "ipython3",
   "version": "3.9.6"
  }
 },
 "nbformat": 4,
 "nbformat_minor": 5
}
