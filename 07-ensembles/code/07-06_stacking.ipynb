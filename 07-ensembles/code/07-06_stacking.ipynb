{
 "cells": [
  {
   "cell_type": "markdown",
   "metadata": {},
   "source": [
    "# STAT451: Machine Learning -- L07: Ensemble Methods Part 1/2"
   ]
  },
  {
   "cell_type": "markdown",
   "metadata": {},
   "source": [
    "STAT 451: Intro to Machine Learning (Fall 2021)  \n",
    "Instructor: Sebastian Raschka"
   ]
  },
  {
   "cell_type": "code",
   "execution_count": 1,
   "metadata": {},
   "outputs": [
    {
     "name": "stdout",
     "output_type": "stream",
     "text": [
      "scikit-learn: 1.0\n",
      "mlxtend     : 0.19.0\n",
      "\n"
     ]
    }
   ],
   "source": [
    "%load_ext watermark\n",
    "%watermark -p scikit-learn,mlxtend"
   ]
  },
  {
   "cell_type": "markdown",
   "metadata": {},
   "source": [
    "# Stacking"
   ]
  },
  {
   "cell_type": "markdown",
   "metadata": {},
   "source": [
    "## Dataset"
   ]
  },
  {
   "cell_type": "code",
   "execution_count": 2,
   "metadata": {},
   "outputs": [
    {
     "name": "stdout",
     "output_type": "stream",
     "text": [
      "Train/Valid/Test sizes: 318 80 171\n"
     ]
    }
   ],
   "source": [
    "from sklearn.model_selection import train_test_split\n",
    "from sklearn import datasets\n",
    "\n",
    "data = datasets.load_breast_cancer()\n",
    "X, y = data.data, data.target\n",
    "\n",
    "X_temp, X_test, y_temp, y_test = \\\n",
    "    train_test_split(X, y, test_size=0.3, random_state=123, stratify=y)\n",
    "\n",
    "X_train, X_valid, y_train, y_valid = \\\n",
    "    train_test_split(X_temp, y_temp, test_size=0.2, random_state=123, stratify=y_temp)\n",
    "\n",
    "print('Train/Valid/Test sizes:', y_train.shape[0], y_valid.shape[0], y_test.shape[0])"
   ]
  },
  {
   "cell_type": "markdown",
   "metadata": {},
   "source": [
    "## MLxtend standard Stacking (prone to overfitting)"
   ]
  },
  {
   "cell_type": "code",
   "execution_count": 3,
   "metadata": {},
   "outputs": [
    {
     "name": "stdout",
     "output_type": "stream",
     "text": [
      "Training Accuracy: 1.00\n",
      "Validation Accuracy: 0.96\n",
      "Test Accuracy: 0.98\n"
     ]
    }
   ],
   "source": [
    "from sklearn import model_selection\n",
    "from sklearn.linear_model import LogisticRegression\n",
    "from sklearn.neighbors import KNeighborsClassifier\n",
    "from sklearn.ensemble import AdaBoostClassifier\n",
    "from sklearn.ensemble import RandomForestClassifier\n",
    "from sklearn.tree import DecisionTreeClassifier\n",
    "from sklearn.ensemble import HistGradientBoostingClassifier\n",
    "from mlxtend.classifier import StackingClassifier\n",
    "\n",
    "\n",
    "clf1 = KNeighborsClassifier(n_neighbors=5)\n",
    "clf2 = RandomForestClassifier(random_state=123)\n",
    "clf3 = HistGradientBoostingClassifier(random_state=123)\n",
    "clf4 = AdaBoostClassifier(random_state=123)\n",
    "clf5 = DecisionTreeClassifier(random_state=123,\n",
    "                              max_depth=None)\n",
    "\n",
    "lr = LogisticRegression(random_state=123)\n",
    "\n",
    "sclf = StackingClassifier(classifiers=[clf1, clf2, clf3, clf4, clf5], \n",
    "                          meta_classifier=lr)\n",
    "\n",
    "\n",
    "sclf.fit(X_train, y_train)\n",
    "print(\"Training Accuracy: %0.2f\" % sclf.score(X_train, y_train))\n",
    "print(\"Validation Accuracy: %0.2f\" % sclf.score(X_valid, y_valid))\n",
    "print(\"Test Accuracy: %0.2f\" % sclf.score(X_test, y_test))"
   ]
  },
  {
   "cell_type": "markdown",
   "metadata": {},
   "source": [
    "## MLxtend Stacking + CV"
   ]
  },
  {
   "cell_type": "code",
   "execution_count": 4,
   "metadata": {},
   "outputs": [
    {
     "name": "stdout",
     "output_type": "stream",
     "text": [
      "Training Accuracy: 1.00\n",
      "Validation Accuracy: 0.97\n",
      "Test Accuracy: 0.98\n"
     ]
    }
   ],
   "source": [
    "from mlxtend.classifier import StackingCVClassifier\n",
    "\n",
    "\n",
    "clf1 = KNeighborsClassifier(n_neighbors=5)\n",
    "clf2 = RandomForestClassifier(random_state=123)\n",
    "clf3 = HistGradientBoostingClassifier(random_state=123)\n",
    "clf4 = AdaBoostClassifier(random_state=123)\n",
    "clf5 = DecisionTreeClassifier(random_state=123,\n",
    "                              max_depth=None)\n",
    "\n",
    "lr = LogisticRegression(random_state=123)\n",
    "\n",
    "sclf = StackingCVClassifier(classifiers=[clf1, clf2, clf3, clf4, clf5], \n",
    "                            meta_classifier=lr, \n",
    "                            cv=10,\n",
    "                            random_state=123)\n",
    "\n",
    "\n",
    "sclf.fit(X_train, y_train)\n",
    "print(\"Training Accuracy: %0.2f\" % sclf.score(X_train, y_train))\n",
    "print(\"Validation Accuracy: %0.2f\" % sclf.score(X_valid, y_valid))\n",
    "print(\"Test Accuracy: %0.2f\" % sclf.score(X_test, y_test))"
   ]
  },
  {
   "cell_type": "markdown",
   "metadata": {},
   "source": [
    "## Stacking Classifier from scikit-learn (also includes CV)"
   ]
  },
  {
   "cell_type": "code",
   "execution_count": 5,
   "metadata": {},
   "outputs": [
    {
     "name": "stdout",
     "output_type": "stream",
     "text": [
      "Training Accuracy: 1.00\n",
      "Validation Accuracy: 0.99\n",
      "Test Accuracy: 0.98\n"
     ]
    }
   ],
   "source": [
    "from sklearn.ensemble import StackingClassifier\n",
    "\n",
    "\n",
    "clf1 = KNeighborsClassifier(n_neighbors=5)\n",
    "clf2 = RandomForestClassifier(random_state=123)\n",
    "clf3 = HistGradientBoostingClassifier(random_state=123)\n",
    "clf4 = AdaBoostClassifier(random_state=123)\n",
    "clf5 = DecisionTreeClassifier(random_state=123,\n",
    "                              max_depth=None)\n",
    "\n",
    "lr = LogisticRegression(random_state=123)\n",
    "\n",
    "estimators = [('clf1', clf1),\n",
    "              ('clf2', clf2),\n",
    "              ('clf3', clf3),\n",
    "              ('clf4', clf4),\n",
    "              ('clf5', clf5)]\n",
    "\n",
    "sclf = StackingClassifier(estimators=estimators, \n",
    "                          final_estimator=lr, \n",
    "                          cv=10)\n",
    "\n",
    "\n",
    "sclf.fit(X_train, y_train)\n",
    "print(\"Training Accuracy: %0.2f\" % sclf.score(X_train, y_train))\n",
    "print(\"Validation Accuracy: %0.2f\" % sclf.score(X_valid, y_valid))\n",
    "print(\"Test Accuracy: %0.2f\" % sclf.score(X_test, y_test))"
   ]
  },
  {
   "cell_type": "markdown",
   "metadata": {},
   "source": [
    "## MLxtend StackingCVClassifier with same behavior as scikit-learn above"
   ]
  },
  {
   "cell_type": "code",
   "execution_count": 6,
   "metadata": {},
   "outputs": [
    {
     "name": "stdout",
     "output_type": "stream",
     "text": [
      "Training Accuracy: 1.00\n",
      "Validation Accuracy: 0.99\n",
      "Test Accuracy: 0.98\n"
     ]
    }
   ],
   "source": [
    "# stack_method{‘auto’, ‘predict_proba’, ‘decision_function’, ‘predict’}, default=’auto’\n",
    "\n",
    "\n",
    "from mlxtend.classifier import StackingCVClassifier\n",
    "\n",
    "\n",
    "sclf = StackingCVClassifier(classifiers=[clf1, clf2, clf3, clf4, clf5], \n",
    "                            meta_classifier=lr, \n",
    "                            use_probas=True, # changed\n",
    "                            drop_proba_col='last',\n",
    "                            #use_features_in_secondary=True,\n",
    "                            cv=10,\n",
    "                            random_state=123)\n",
    "\n",
    "\n",
    "sclf.fit(X_train, y_train)\n",
    "print(\"Training Accuracy: %0.2f\" % sclf.score(X_train, y_train))\n",
    "print(\"Validation Accuracy: %0.2f\" % sclf.score(X_valid, y_valid))\n",
    "print(\"Test Accuracy: %0.2f\" % sclf.score(X_test, y_test))"
   ]
  },
  {
   "cell_type": "code",
   "execution_count": null,
   "metadata": {},
   "outputs": [],
   "source": []
  }
 ],
 "metadata": {
  "kernelspec": {
   "display_name": "Python 3 (ipykernel)",
   "language": "python",
   "name": "python3"
  },
  "language_info": {
   "codemirror_mode": {
    "name": "ipython",
    "version": 3
   },
   "file_extension": ".py",
   "mimetype": "text/x-python",
   "name": "python",
   "nbconvert_exporter": "python",
   "pygments_lexer": "ipython3",
   "version": "3.9.6"
  }
 },
 "nbformat": 4,
 "nbformat_minor": 4
}
